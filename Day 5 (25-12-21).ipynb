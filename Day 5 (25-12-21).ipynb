{
 "cells": [
  {
   "cell_type": "markdown",
   "id": "1c51033a",
   "metadata": {},
   "source": [
    "# Mark down\n",
    "## Mark down\n",
    "### Mark down\n",
    "#### Mark down\n",
    "\n",
    "# Python\n",
    "    - python1\n",
    "        -pyhton1\n",
    "        -python2 \n",
    "        \n",
    "  # Font styles\n",
    "  ***FONT***\n",
    "  **FONT**\n",
    "  *FONT*\n",
    "  "
   ]
  },
  {
   "cell_type": "code",
   "execution_count": 3,
   "id": "60f2a3d2",
   "metadata": {},
   "outputs": [
    {
     "name": "stdout",
     "output_type": "stream",
     "text": [
      "Hello World\n"
     ]
    }
   ],
   "source": [
    " print (\"Hello World\")"
   ]
  },
  {
   "cell_type": "code",
   "execution_count": 4,
   "id": "9c57b08a",
   "metadata": {},
   "outputs": [
    {
     "name": "stdout",
     "output_type": "stream",
     "text": [
      "Hello ,World\n"
     ]
    }
   ],
   "source": [
    "print (\"Hello ,World\")"
   ]
  },
  {
   "cell_type": "code",
   "execution_count": 5,
   "id": "97776962",
   "metadata": {},
   "outputs": [
    {
     "name": "stdout",
     "output_type": "stream",
     "text": [
      "one two three\n"
     ]
    }
   ],
   "source": [
    "print (\"one\", \"two\", \"three\")"
   ]
  },
  {
   "cell_type": "markdown",
   "id": "79d68e00",
   "metadata": {},
   "source": [
    "# Variables:\n",
    "- to store the data\n",
    "   "
   ]
  },
  {
   "cell_type": "markdown",
   "id": "32500ba7",
   "metadata": {},
   "source": [
    "a= 10 # single value assigned to single variable\n",
    "print(a)"
   ]
  },
  {
   "cell_type": "code",
   "execution_count": 7,
   "id": "c5b3f521",
   "metadata": {},
   "outputs": [
    {
     "name": "stdout",
     "output_type": "stream",
     "text": [
      "10 10 10\n"
     ]
    }
   ],
   "source": [
    "a =b = c =10 # single value assigned to multiple variabels\n",
    "print(a,b,c)"
   ]
  },
  {
   "cell_type": "code",
   "execution_count": 8,
   "id": "293324dd",
   "metadata": {},
   "outputs": [
    {
     "name": "stdout",
     "output_type": "stream",
     "text": [
      "10 20 30\n"
     ]
    }
   ],
   "source": [
    "a,b,c = 10,20,30 # multiple values assigned to multiple variables\n",
    "print(a,b,c)"
   ]
  },
  {
   "cell_type": "markdown",
   "id": "773cd5a8",
   "metadata": {},
   "source": [
    "# Input function\n",
    "- accept input from users\n"
   ]
  },
  {
   "cell_type": "code",
   "execution_count": 16,
   "id": "cf5432d5",
   "metadata": {},
   "outputs": [
    {
     "name": "stdout",
     "output_type": "stream",
     "text": [
      "Enter your name:Bharathi\n",
      "your nameis: Bharathi\n",
      "<class 'str'>\n"
     ]
    }
   ],
   "source": [
    "# Input as text\n",
    "\n",
    "x = input(\"Enter your name:\")\n",
    "print(\"your nameis:\",x)\n",
    "print(type(x))\n",
    "        "
   ]
  },
  {
   "cell_type": "code",
   "execution_count": 10,
   "id": "1c92a453",
   "metadata": {},
   "outputs": [
    {
     "name": "stdout",
     "output_type": "stream",
     "text": [
      "Enter a number9\n",
      "9\n",
      "<class 'int'>\n"
     ]
    }
   ],
   "source": [
    "# Input as number\n",
    "n = int(input(\"Enter a number\"))\n",
    "print (n)\n",
    "print (type(n))"
   ]
  },
  {
   "cell_type": "markdown",
   "id": "5e02b74e",
   "metadata": {},
   "source": [
    "# Data types:\n"
   ]
  },
  {
   "cell_type": "code",
   "execution_count": 11,
   "id": "582c7af6",
   "metadata": {},
   "outputs": [
    {
     "name": "stdout",
     "output_type": "stream",
     "text": [
      "10\n",
      "<class 'int'>\n"
     ]
    }
   ],
   "source": [
    "# Integer\n",
    "x = 10\n",
    "print(x)\n",
    "print(type(x))\n",
    "\n",
    "     \n",
    "    "
   ]
  },
  {
   "cell_type": "code",
   "execution_count": 12,
   "id": "b9f0b46b",
   "metadata": {},
   "outputs": [
    {
     "name": "stdout",
     "output_type": "stream",
     "text": [
      "10.2\n",
      "<class 'float'>\n"
     ]
    }
   ],
   "source": [
    "# float\n",
    "a = 10.2\n",
    "print(a)\n",
    "print(type(a))\n"
   ]
  },
  {
   "cell_type": "code",
   "execution_count": 13,
   "id": "1ba16bd2",
   "metadata": {},
   "outputs": [
    {
     "name": "stdout",
     "output_type": "stream",
     "text": [
      "Python\n",
      "<class 'str'>\n"
     ]
    }
   ],
   "source": [
    "# string\n",
    "a = \"Python\"\n",
    "print(a)\n",
    "print(type(a))"
   ]
  },
  {
   "cell_type": "markdown",
   "id": "27d5b356",
   "metadata": {},
   "source": [
    "# Data conversions"
   ]
  },
  {
   "cell_type": "code",
   "execution_count": 14,
   "id": "44c9a362",
   "metadata": {},
   "outputs": [
    {
     "name": "stdout",
     "output_type": "stream",
     "text": [
      "5 <class 'int'>\n",
      "5.0 <class 'float'>\n",
      "5 <class 'str'>\n"
     ]
    }
   ],
   "source": [
    "# Integer\n",
    "n = 5\n",
    "print(n,type(n))\n",
    "f = float(n)\n",
    "print(f,type(f))\n",
    "s = str(n)\n",
    "print(s,type(s))\n"
   ]
  },
  {
   "cell_type": "code",
   "execution_count": 19,
   "id": "56cdd680",
   "metadata": {},
   "outputs": [
    {
     "name": "stdout",
     "output_type": "stream",
     "text": [
      "12345 <class 'str'>\n",
      "12345 <class 'int'>\n",
      "12345.0 <class 'float'>\n"
     ]
    }
   ],
   "source": [
    "# string\n",
    "s = \"12345\"\n",
    "print(s,type(s))\n",
    "n = int(s)\n",
    "print(n,type(n))\n",
    "f = float(s)\n",
    "print(f,type(f))\n",
    "      "
   ]
  },
  {
   "cell_type": "code",
   "execution_count": 18,
   "id": "8ec68057",
   "metadata": {},
   "outputs": [
    {
     "name": "stdout",
     "output_type": "stream",
     "text": [
      "3.1 <class 'float'>\n",
      "3 <class 'int'>\n",
      "3.1 <class 'str'>\n"
     ]
    }
   ],
   "source": [
    "# float\n",
    "f = 3.1\n",
    "print(f,type(f))\n",
    "n = int(f)\n",
    "print(n,type(n))\n",
    "s = str(f)\n",
    "print(s,type(s))\n"
   ]
  },
  {
   "cell_type": "markdown",
   "id": "93b9b3f2",
   "metadata": {},
   "source": [
    "# Exercise:"
   ]
  },
  {
   "cell_type": "code",
   "execution_count": 20,
   "id": "edeac15f",
   "metadata": {},
   "outputs": [
    {
     "name": "stdout",
     "output_type": "stream",
     "text": [
      "Enter your name:Bharathi\n",
      "name is Bharathi\n"
     ]
    }
   ],
   "source": [
    "n = input(\"Enter your name:\")\n",
    "print(\"name is\" ,n)"
   ]
  },
  {
   "cell_type": "code",
   "execution_count": 21,
   "id": "8ccd6bf6",
   "metadata": {},
   "outputs": [
    {
     "name": "stdout",
     "output_type": "stream",
     "text": [
      "Enter a radius9\n",
      "254.34\n"
     ]
    }
   ],
   "source": [
    "pi= 3.14\n",
    "r= int(input(\"Enter a radius\"))\n",
    "print(pi*r*r)"
   ]
  },
  {
   "cell_type": "code",
   "execution_count": 22,
   "id": "fc946eb8",
   "metadata": {},
   "outputs": [
    {
     "name": "stdout",
     "output_type": "stream",
     "text": [
      "29\n",
      "12\n",
      "41 17 2.4166666666666665 348\n"
     ]
    }
   ],
   "source": [
    "a = int(input())\n",
    "b = int(input())\n",
    "c = a+b\n",
    "d = a-b\n",
    "e = a/b\n",
    "f = a*b\n",
    "print(c,d,e,f)"
   ]
  },
  {
   "cell_type": "code",
   "execution_count": 23,
   "id": "6b4dffe1",
   "metadata": {},
   "outputs": [
    {
     "name": "stdout",
     "output_type": "stream",
     "text": [
      "Enter a year1962\n",
      "2012\n"
     ]
    }
   ],
   "source": [
    "x = int(input(\"Enter a year\"))\n",
    "x = x+50\n",
    "print(x)"
   ]
  },
  {
   "cell_type": "code",
   "execution_count": null,
   "id": "46ee4c47",
   "metadata": {},
   "outputs": [],
   "source": []
  }
 ],
 "metadata": {
  "kernelspec": {
   "display_name": "Python 3 (ipykernel)",
   "language": "python",
   "name": "python3"
  },
  "language_info": {
   "codemirror_mode": {
    "name": "ipython",
    "version": 3
   },
   "file_extension": ".py",
   "mimetype": "text/x-python",
   "name": "python",
   "nbconvert_exporter": "python",
   "pygments_lexer": "ipython3",
   "version": "3.9.7"
  }
 },
 "nbformat": 4,
 "nbformat_minor": 5
}
